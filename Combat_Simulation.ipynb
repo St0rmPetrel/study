{
 "cells": [
  {
   "cell_type": "markdown",
   "metadata": {},
   "source": [
    "## ___Домашнее задание №1___\n",
    "### ___Компьютерное моделирование огневого боя.___\n",
    "**Вариант №7**"
   ]
  },
  {
   "cell_type": "markdown",
   "metadata": {},
   "source": [
    "__***Дано:***__\n",
    "***\n",
    "___Для красных (команда 1):___\n",
    "* Начальная численность:  $ n ^{к} = 150 $ \n",
    "* Скорострельность:  $ S ^ {к} = 6 $ выстр./мин \n",
    "* Вероятность порожения:  $ W ^ {к} = 0.7 $ \n",
    "***\n",
    "___Для синих (команда 2):___\n",
    "* Начальная численность:  $ n ^{с} = 200 $ \n",
    "* Скорострельность:  $ S ^ {с} = 5 $ выстр./мин \n",
    "* Вероятность порожения:  $ W ^ {с} = 0.4 $ \n",
    "***"
   ]
  },
  {
   "cell_type": "code",
   "execution_count": 2,
   "metadata": {},
   "outputs": [],
   "source": [
    "#Запись данных в программу\n",
    "n_red = 150 #Начальная численность красных\n",
    "S_red = 6 # Скорострельность красных\n",
    "W_red = 0.7 # Вероятность порожения красных\n",
    "#\n",
    "n_blue = 200 #Начальная численность синих\n",
    "S_blue = 5 # Скорострельность синих\n",
    "W_blue = 0.4 # Вероятность порожения синих"
   ]
  },
  {
   "cell_type": "markdown",
   "metadata": {},
   "source": [
    "***\n",
    "***1) Эффективная скорострельность (ЭС):***"
   ]
  },
  {
   "cell_type": "code",
   "execution_count": 3,
   "metadata": {},
   "outputs": [
    {
     "name": "stdout",
     "output_type": "stream",
     "text": [
      "Эффективная скорострельность красных:\n"
     ]
    },
    {
     "data": {
      "text/latex": [
       "$\\displaystyle \\Lambda ^ {к} = 4.200$"
      ],
      "text/plain": [
       "<IPython.core.display.Math object>"
      ]
     },
     "metadata": {},
     "output_type": "display_data"
    },
    {
     "name": "stdout",
     "output_type": "stream",
     "text": [
      "Эффективная скорострельность синих:\n"
     ]
    },
    {
     "data": {
      "text/latex": [
       "$\\displaystyle \\Lambda ^ {с} = 2.000$"
      ],
      "text/plain": [
       "<IPython.core.display.Math object>"
      ]
     },
     "metadata": {},
     "output_type": "display_data"
    }
   ],
   "source": [
    "lambda_red = S_red * W_red #ЭС красных\n",
    "#\n",
    "lambda_blue = S_blue * W_blue #ЭС синих\n",
    "from IPython.display import display, Math, Latex\n",
    "print(\"Эффективная скорострельность красных:\")\n",
    "display(Math(r'\\Lambda ^ {к} = %.3f' % lambda_red))\n",
    "print(\"Эффективная скорострельность синих:\")\n",
    "display(Math(r'\\Lambda ^ {с} = %.3f' % lambda_blue)) "
   ]
  },
  {
   "cell_type": "markdown",
   "metadata": {},
   "source": [
    "***\n",
    "___2) Коэффициент преимущества $ \\chi $ красных (стороны 1)___ "
   ]
  },
  {
   "cell_type": "code",
   "execution_count": 9,
   "metadata": {},
   "outputs": [
    {
     "name": "stdout",
     "output_type": "stream",
     "text": [
      "Коэффициент преимущества красных:\n"
     ]
    },
    {
     "data": {
      "text/latex": [
       "$\\displaystyle \\chi = 1.087$"
      ],
      "text/plain": [
       "<IPython.core.display.Math object>"
      ]
     },
     "metadata": {},
     "output_type": "display_data"
    }
   ],
   "source": [
    "chi = (n_red/n_blue) * pow(lambda_red/lambda_blue, 0.5)\n",
    "print(\"Коэффициент преимущества красных:\")\n",
    "display(Math(r'\\chi = %.3f' % chi))"
   ]
  },
  {
   "cell_type": "markdown",
   "metadata": {},
   "source": [
    "___\n",
    "___3) График убывания численности сторон в относительных единицах___"
   ]
  },
  {
   "cell_type": "code",
   "execution_count": 29,
   "metadata": {},
   "outputs": [],
   "source": [
    "import math\n",
    "def m_1(t): return math.cosh(t) - (1/chi)*math.sinh(t)\n",
    "def m_2(t): return math.cosh(t) - (chi)*math.sinh(t)\n",
    "i = 0\n",
    "T = [0]\n",
    "M_1 = [m_1(T[i])]\n",
    "M_2 = [m_2(T[i])]\n",
    "while (M_2[i] >= 0) and (M_1[i] >= 0):\n",
    "    T.append(T[i] + 0.1)\n",
    "    i += 1\n",
    "    M_1.append(m_1(T[i]))\n",
    "    M_2.append(m_2(T[i]))"
   ]
  },
  {
   "cell_type": "code",
   "execution_count": 52,
   "metadata": {},
   "outputs": [
    {
     "data": {
      "text/plain": [
       "Text(0, 0.5, 'm')"
      ]
     },
     "execution_count": 52,
     "metadata": {},
     "output_type": "execute_result"
    },
    {
     "data": {
      "image/png": "[encoded data removed]",
      "text/plain": [
       "<Figure size 432x288 with 1 Axes>"
      ]
     },
     "metadata": {
      "needs_background": "light"
     },
     "output_type": "display_data"
    }
   ],
   "source": [
    "import matplotlib.pyplot as plt\n",
    "plt.plot(T, M_1, label = 'red relative', color = 'red')\n",
    "plt.plot(T, M_2, label = 'blue relative', color = 'blue')\n",
    "plt.grid()\n",
    "plt.legend()\n",
    "plt.xlabel('t')\n",
    "plt.ylabel('m')"
   ]
  },
  {
   "cell_type": "markdown",
   "metadata": {},
   "source": [
    "***\n",
    "___4) Фазовая диограмма боя в относительных и абсолютных единицах___\n",
    "\n",
    "В относительных единицах:"
   ]
  },
  {
   "cell_type": "code",
   "execution_count": 62,
   "metadata": {},
   "outputs": [
    {
     "data": {
      "text/plain": [
       "Text(0, 0.5, 'm_blue')"
      ]
     },
     "execution_count": 62,
     "metadata": {},
     "output_type": "execute_result"
    },
    {
     "data": {
      "image/png": "[encoded data removed]",
      "text/plain": [
       "<Figure size 432x288 with 1 Axes>"
      ]
     },
     "metadata": {
      "needs_background": "light"
     },
     "output_type": "display_data"
    }
   ],
   "source": [
    "plt.plot(M_1, M_2)\n",
    "plt.grid()\n",
    "plt.xlabel('m_red')\n",
    "plt.ylabel('m_blue')"
   ]
  },
  {
   "cell_type": "markdown",
   "metadata": {},
   "source": [
    "В абсолютных единицах:"
   ]
  },
  {
   "cell_type": "code",
   "execution_count": 60,
   "metadata": {},
   "outputs": [],
   "source": [
    "M_red = [a * n_red for a in M_1]\n",
    "M_blue = [a * n_blue for a in M_2]"
   ]
  },
  {
   "cell_type": "code",
   "execution_count": 68,
   "metadata": {},
   "outputs": [
    {
     "data": {
      "text/plain": [
       "Text(0, 0.5, 'm_blue')"
      ]
     },
     "execution_count": 68,
     "metadata": {},
     "output_type": "execute_result"
    },
    {
     "data": {
      "image/png": "[encoded data removed]",
      "text/plain": [
       "<Figure size 432x288 with 1 Axes>"
      ]
     },
     "metadata": {
      "needs_background": "light"
     },
     "output_type": "display_data"
    }
   ],
   "source": [
    "plt.plot(M_red, M_blue)\n",
    "plt.grid()\n",
    "plt.xlabel('m_red')\n",
    "plt.ylabel('m_blue')"
   ]
  },
  {
   "cell_type": "markdown",
   "metadata": {},
   "source": [
    "___\n",
    "___5) Момент конца боя при заданных относительных потерях стороны 2 (синих). Расход боеприпасов стороны 1 (красных) на одну установку___"
   ]
  },
  {
   "cell_type": "code",
   "execution_count": 107,
   "metadata": {},
   "outputs": [
    {
     "name": "stdout",
     "output_type": "stream",
     "text": [
      "Относительное время конца боя\n"
     ]
    },
    {
     "data": {
      "text/latex": [
       "$\\displaystyle \\bar \\tau = 1.590$"
      ],
      "text/plain": [
       "<IPython.core.display.Math object>"
      ]
     },
     "metadata": {},
     "output_type": "display_data"
    },
    {
     "name": "stdout",
     "output_type": "stream",
     "text": [
      "Абсолюьное время конца боя, в сек\n"
     ]
    },
    {
     "data": {
      "text/latex": [
       "$\\displaystyle \\tau = 32.9\\ с$"
      ],
      "text/plain": [
       "<IPython.core.display.Math object>"
      ]
     },
     "metadata": {},
     "output_type": "display_data"
    },
    {
     "name": "stdout",
     "output_type": "stream",
     "text": [
      "Расход боеприпасов на одну установку у красных (сторона 1):\n"
     ]
    },
    {
     "data": {
      "text/latex": [
       "$\\displaystyle N_{к} = 3 $"
      ],
      "text/plain": [
       "<IPython.core.display.Math object>"
      ]
     },
     "metadata": {},
     "output_type": "display_data"
    }
   ],
   "source": [
    "tau_rel = math.log(pow((chi + 1)/(chi - 1), 0.5)) # От. время конца боя\n",
    "tau = tau_rel/(pow((lambda_red*lambda_blue), 0.5)) #Аб. вреия конца боя\n",
    "N_red = S_red * tau # Расход БП стороны 1 (красных) на одну устан.\n",
    "print(\"Относительное время конца боя\")\n",
    "display(Math(r'\\bar \\tau = %.3f' % tau_rel))\n",
    "print(\"Абсолюьное время конца боя, в сек\")\n",
    "display(Math(r'\\tau = %.1f\\ с' % (tau*60)))\n",
    "print(\"Расход боеприпасов на одну установку у красных (сторона 1):\")\n",
    "display(Math(r'N_{к} = %.0f ' % N_red))"
   ]
  }
 ],
 "metadata": {
  "kernelspec": {
   "display_name": "Python 3",
   "language": "python",
   "name": "python3"
  },
  "language_info": {
   "codemirror_mode": {
    "name": "ipython",
    "version": 3
   },
   "file_extension": ".py",
   "mimetype": "text/x-python",
   "name": "python",
   "nbconvert_exporter": "python",
   "pygments_lexer": "ipython3",
   "version": "3.7.3"
  }
 },
 "nbformat": 4,
 "nbformat_minor": 2
}
